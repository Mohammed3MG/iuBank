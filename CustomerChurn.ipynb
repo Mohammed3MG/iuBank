{
 "cells": [
  {
   "cell_type": "code",
   "execution_count": null,
   "metadata": {},
   "outputs": [],
   "source": [
    "import pandas as pd\n",
    "import matplotlib.pyplot as plt\n",
    "import seaborn as sns\n",
    "from sklearn.model_selection import train_test_split\n",
    "from sklearn.ensemble import RandomForestClassifier\n",
    "from xgboost import XGBClassifier\n",
    "from sklearn.metrics import classification_report\n",
    "from sklearn.preprocessing import LabelEncoder\n",
    "\n",
    "# Load data from CSV file\n",
    "data = pd.read_csv('data.csv')\n",
    "# Drop unnecessary columns\n",
    "columns_to_drop = ['RowNumber', 'CustomerId', 'Surname', 'Complain', 'Satisfaction Sc\n",
    "data = data.drop(columns=columns_to_drop)\n",
    "# Convert categorical columns to numerical using Label Encoding\n",
    "label_encoder = LabelEncoder()\n",
    "data['Geography'] = label_encoder.fit_transform(data['Geography'])\n",
    "data['Gender'] = label_encoder.fit_transform(data['Gender'])\n",
    "# Split the data into features and target\n",
    "X = data.drop(columns=['Exited'])\n",
    "y = data['Exited']\n",
    "# Split the data into training and testing sets\n",
    "X_train, X_test, y_train, y_test = train_test_split(X, y, test_size=0.2, random_state=\n",
    "# Train Random Forest Classifier\n",
    "rf_classifier = RandomForestClassifier(random_state=42)\n",
    "rf_classifier.fit(X_train, y_train)\n",
    "rf_predictions = rf_classifier.predict(X_test)\n",
    "# Train XGBoost Classifier\n",
    "xgb_classifier = XGBClassifier(random_state=42)\n",
    "xgb_classifier.fit(X_train, y_train)\n",
    "xgb_predictions = xgb_classifier.predict(X_test)\n",
    "# Evaluate and print results\n",
    "print(\"Random Forest Classifier:\")\n",
    "print(classification_report(y_test, rf_predictions))\n",
    "print(\"XGBoost Classifier:\")\n",
    "print(classification_report(y_test, xgb_predictions))\n",
    "# Visualize Customer Churn using a line graph\n",
    "plt.figure(figsize=(10, 6))\n",
    "sns.lineplot(data=data, x='Age', y='Exited', estimator='mean', hue='Gender')\n",
    "plt.title('Customer Churn based on Age')\n",
    "plt.xlabel('Age')\n",
    "plt.ylabel('Churn Probability')\n",
    "plt.legend(title='Gender', loc='upper right')\n",
    "plt.show()"
   ]
  }
 ],
 "metadata": {
  "language_info": {
   "name": "python"
  }
 },
 "nbformat": 4,
 "nbformat_minor": 2
}
