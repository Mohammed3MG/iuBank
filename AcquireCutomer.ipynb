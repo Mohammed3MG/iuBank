{
 "cells": [
  {
   "cell_type": "code",
   "execution_count": null,
   "metadata": {},
   "outputs": [],
   "source": [
    "import pandas as pd\n",
    "from sklearn.model_selection import train_test_split\n",
    "from sklearn.svm import SVC\n",
    "from sklearn.preprocessing import OneHotEncoder\n",
    "from sklearn.compose import ColumnTransformer\n",
    "from sklearn.pipeline import Pipeline\n",
    "from sklearn.impute import SimpleImputer\n",
    "from sklearn.metrics import accuracy_score, classification_report\n",
    "import plotly.express as px\n",
    "# Load data from CSV file\n",
    "data = pd.read_csv('data.csv')\n",
    "# Support Vector Machines (SVM) for Customer Acquisition\n",
    "target_variable_acquisition = 'Exited'\n",
    "features_acquisition = data.drop(columns=['RowNumber', 'CustomerId', 'Surname', targe\n",
    "X_train, X_test, y_train, y_test = train_test_split(features_acquisition, data[target_\n",
    "# Identify categorical features\n",
    "categorical_features = ['Geography', 'Gender', 'Card Type']\n",
    "# Create pipeline for preprocessing categorical features\n",
    "categorical_transformer = Pipeline(steps=[\n",
    "('imputer', SimpleImputer(strategy='constant', fill_value='missing')),\n",
    "('onehot', OneHotEncoder(handle_unknown='ignore'))\n",
    "])\n",
    "# Preprocess features with categorical data\n",
    "preprocessor = ColumnTransformer(\n",
    "transformers=[\n",
    "('cat', categorical_transformer, categorical_features)\n",
    "])\n",
    "# Create an SVM classifier with preprocessing pipeline\n",
    "svm_classifier = Pipeline(steps=[('preprocessor', preprocessor),\n",
    "('classifier', SVC(random_state=42))])\n",
    "# Fit the model and make predictions\n",
    "svm_classifier.fit(X_train, y_train)\n",
    "In [5]:\n",
    "predictions_acquisition = svm_classifier.predict(X_test)\n",
    "accuracy_acquisition = accuracy_score(y_test, predictions_acquisition)\n",
    "# Visualize results using plotly\n",
    "fig = px.histogram(data, x='Exited', color='Exited', title='Customer Acquisition Pred\n",
    "labels={'Exited': 'Customer Exited'})\n",
    "fig.show()\n",
    "# Print results\n",
    "print(\"Customer Acquisition Prediction (SVM):\")\n",
    "print(f\"Accuracy: {accuracy_acquisition:.2%}\")\n",
    "print(\"Classification Report:\")\n",
    "print(classification_report(y_test, predictions_acquisition, zero_division=1))"
   ]
  }
 ],
 "metadata": {
  "language_info": {
   "name": "python"
  }
 },
 "nbformat": 4,
 "nbformat_minor": 2
}
